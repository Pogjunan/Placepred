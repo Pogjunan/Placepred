{
 "cells": [
  {
   "cell_type": "markdown",
   "metadata": {
    "id": "BfotnwgPIsaD"
   },
   "source": [
    "# 서울 랜드마크 이미지 분류 경진대회"
   ]
  },
  {
   "cell_type": "markdown",
   "metadata": {
    "id": "uVAEX9exIjz1"
   },
   "source": [
    "# 목차"
   ]
  },
  {
   "cell_type": "markdown",
   "metadata": {
    "id": "U7UW5MCpI2FS"
   },
   "source": [
    "0. 라이브러리 설치\n",
    "1. 환경설정\n",
    "2. 데이터 불러오기\n",
    "3. 데이터 전처리\n",
    "4. 모델 정의\n",
    "5. 모델 학습\n",
    "6. 모델 예측\n",
    "7. 결과 제출"
   ]
  },
  {
   "cell_type": "markdown",
   "metadata": {
    "id": "tw3yZ4aoIwDf"
   },
   "source": [
    "# 0. 라이브러리 설치"
   ]
  },
  {
   "cell_type": "markdown",
   "metadata": {
    "id": "4xWgEth3JAGV"
   },
   "source": [
    "# 1. 환경설정"
   ]
  },
  {
   "cell_type": "markdown",
   "metadata": {
    "id": "SngdFfprJnkF"
   },
   "source": [
    "### 1.1 GPU 세팅 및 확인"
   ]
  },
  {
   "cell_type": "code",
   "execution_count": 1,
   "metadata": {
    "colab": {
     "base_uri": "https://localhost:8080/"
    },
    "executionInfo": {
     "elapsed": 311,
     "status": "ok",
     "timestamp": 1714543094244,
     "user": {
      "displayName": "저녁하늘",
      "userId": "05838207599227275382"
     },
     "user_tz": -540
    },
    "id": "5KDwNS5uJDbs",
    "outputId": "b6d714cf-619b-41c7-e720-f3e5080f2a04",
    "tags": []
   },
   "outputs": [
    {
     "name": "stdout",
     "output_type": "stream",
     "text": [
      "Device: cuda\n",
      "There are 1 GPU(s) available.\n",
      "We will use the GPU: NVIDIA A100-SXM4-80GB MIG 7g.80gb\n"
     ]
    }
   ],
   "source": [
    "import torch\n",
    "import torch.nn as nn\n",
    "\n",
    "# GPU가 인식되면 GPU 사용, 아니면 CPU 사용\n",
    "device = torch.device('cuda') if torch.cuda.is_available() else torch.device('cpu')\n",
    "\n",
    "#GPU 체크 및 할당\n",
    "if torch.cuda.is_available():\n",
    "    print('Device:', device)\n",
    "    print('There are %d GPU(s) available.' % torch.cuda.device_count())\n",
    "    print('We will use the GPU:', torch.cuda.get_device_name(0))\n",
    "else:\n",
    "    device = torch.device(\"cpu\")\n",
    "    print('No GPU available, using the CPU instead.')"
   ]
  },
  {
   "cell_type": "markdown",
   "metadata": {
    "id": "z5e_hIoVJq2r"
   },
   "source": [
    "## 1.2 하이퍼 파라미터 세팅"
   ]
  },
  {
   "cell_type": "code",
   "execution_count": 2,
   "metadata": {
    "executionInfo": {
     "elapsed": 4,
     "status": "ok",
     "timestamp": 1714543094803,
     "user": {
      "displayName": "저녁하늘",
      "userId": "05838207599227275382"
     },
     "user_tz": -540
    },
    "id": "-fQuXCBDJhtL",
    "tags": []
   },
   "outputs": [],
   "source": [
    "CFG = {\n",
    "    'IMG_SIZE':128, #이미지의 가로세로 픽셀 사이즈\n",
    "    'EPOCHS':50, #에포크 (학습할 때 반복 수)\n",
    "    'LEARNING_RATE':2e-2, #학습률\n",
    "    'BATCH_SIZE':12, #배치사이즈 (모델에 한번에 들어갈 데이터 양)\n",
    "    'SEED':41, # 랜덤 시드\n",
    "}"
   ]
  },
  {
   "cell_type": "markdown",
   "metadata": {
    "id": "7_kBNYfcJuXz"
   },
   "source": [
    "## 1.3 랜덤시드 고정"
   ]
  },
  {
   "cell_type": "code",
   "execution_count": 3,
   "metadata": {
    "executionInfo": {
     "elapsed": 4,
     "status": "ok",
     "timestamp": 1714543094804,
     "user": {
      "displayName": "저녁하늘",
      "userId": "05838207599227275382"
     },
     "user_tz": -540
    },
    "id": "V7u86dNaJmVd",
    "tags": []
   },
   "outputs": [],
   "source": [
    "# Seed 고정\n",
    "import random\n",
    "import numpy as np\n",
    "import os\n",
    "\n",
    "def seed_everything(seed):\n",
    "    random.seed(seed)\n",
    "    os.environ['PYTHONHASHSEED'] = str(seed)\n",
    "    np.random.seed(seed)\n",
    "    torch.manual_seed(seed)\n",
    "    torch.cuda.manual_seed(seed)\n",
    "    torch.backends.cudnn.deterministic = True\n",
    "    torch.backends.cudnn.benchmark = True\n",
    "\n",
    "seed_everything(CFG['SEED'])"
   ]
  },
  {
   "cell_type": "markdown",
   "metadata": {
    "id": "m5RMGUUwJD0X"
   },
   "source": [
    "# 2. 데이터 불러오기"
   ]
  },
  {
   "cell_type": "markdown",
   "metadata": {
    "id": "NwGxAYZrJ14C",
    "tags": []
   },
   "source": [
    "## 2.1 CSV 데이터"
   ]
  },
  {
   "cell_type": "code",
   "execution_count": 4,
   "metadata": {
    "colab": {
     "base_uri": "https://localhost:8080/",
     "height": 206
    },
    "executionInfo": {
     "elapsed": 404,
     "status": "ok",
     "timestamp": 1714543098920,
     "user": {
      "displayName": "저녁하늘",
      "userId": "05838207599227275382"
     },
     "user_tz": -540
    },
    "id": "Nnv0H8MeJFVP",
    "outputId": "0dceae8d-7cb0-47c9-a159-d28675dec269",
    "tags": []
   },
   "outputs": [
    {
     "data": {
      "text/html": [
       "<div>\n",
       "<style scoped>\n",
       "    .dataframe tbody tr th:only-of-type {\n",
       "        vertical-align: middle;\n",
       "    }\n",
       "\n",
       "    .dataframe tbody tr th {\n",
       "        vertical-align: top;\n",
       "    }\n",
       "\n",
       "    .dataframe thead th {\n",
       "        text-align: right;\n",
       "    }\n",
       "</style>\n",
       "<table border=\"1\" class=\"dataframe\">\n",
       "  <thead>\n",
       "    <tr style=\"text-align: right;\">\n",
       "      <th></th>\n",
       "      <th>file_name</th>\n",
       "      <th>label</th>\n",
       "    </tr>\n",
       "  </thead>\n",
       "  <tbody>\n",
       "    <tr>\n",
       "      <th>0</th>\n",
       "      <td>001.PNG</td>\n",
       "      <td>9</td>\n",
       "    </tr>\n",
       "    <tr>\n",
       "      <th>1</th>\n",
       "      <td>002.PNG</td>\n",
       "      <td>4</td>\n",
       "    </tr>\n",
       "    <tr>\n",
       "      <th>2</th>\n",
       "      <td>003.PNG</td>\n",
       "      <td>1</td>\n",
       "    </tr>\n",
       "    <tr>\n",
       "      <th>3</th>\n",
       "      <td>004.PNG</td>\n",
       "      <td>1</td>\n",
       "    </tr>\n",
       "    <tr>\n",
       "      <th>4</th>\n",
       "      <td>005.PNG</td>\n",
       "      <td>6</td>\n",
       "    </tr>\n",
       "  </tbody>\n",
       "</table>\n",
       "</div>"
      ],
      "text/plain": [
       "  file_name  label\n",
       "0   001.PNG      9\n",
       "1   002.PNG      4\n",
       "2   003.PNG      1\n",
       "3   004.PNG      1\n",
       "4   005.PNG      6"
      ]
     },
     "execution_count": 4,
     "metadata": {},
     "output_type": "execute_result"
    }
   ],
   "source": [
    "import pandas as pd\n",
    "label_df = pd.read_csv('train.csv')\n",
    "label_df.head()"
   ]
  },
  {
   "cell_type": "code",
   "execution_count": 5,
   "metadata": {
    "colab": {
     "base_uri": "https://localhost:8080/"
    },
    "executionInfo": {
     "elapsed": 2,
     "status": "ok",
     "timestamp": 1714543099528,
     "user": {
      "displayName": "저녁하늘",
      "userId": "05838207599227275382"
     },
     "user_tz": -540
    },
    "id": "yP1bEKLlJ36u",
    "outputId": "5ce3372f-41e8-4ddb-8035-1715bd6f17b5",
    "tags": []
   },
   "outputs": [
    {
     "name": "stdout",
     "output_type": "stream",
     "text": [
      "<class 'pandas.core.frame.DataFrame'>\n",
      "RangeIndex: 723 entries, 0 to 722\n",
      "Data columns (total 2 columns):\n",
      " #   Column     Non-Null Count  Dtype \n",
      "---  ------     --------------  ----- \n",
      " 0   file_name  723 non-null    object\n",
      " 1   label      723 non-null    int64 \n",
      "dtypes: int64(1), object(1)\n",
      "memory usage: 11.4+ KB\n"
     ]
    }
   ],
   "source": [
    "label_df.info()"
   ]
  },
  {
   "cell_type": "markdown",
   "metadata": {
    "id": "_aXizIsyJ6AN"
   },
   "source": [
    "## 2.2. 이미지 데이터"
   ]
  },
  {
   "cell_type": "code",
   "execution_count": 11,
   "metadata": {
    "tags": []
   },
   "outputs": [],
   "source": [
    "from glob import glob"
   ]
  },
  {
   "cell_type": "code",
   "execution_count": 12,
   "metadata": {
    "tags": []
   },
   "outputs": [],
   "source": [
    "img_path_list = []"
   ]
  },
  {
   "cell_type": "code",
   "execution_count": 13,
   "metadata": {
    "tags": []
   },
   "outputs": [],
   "source": [
    "img_path_list.extend(glob(os.path.join('/train/*.PNG')))"
   ]
  },
  {
   "cell_type": "code",
   "execution_count": 14,
   "metadata": {
    "tags": []
   },
   "outputs": [
    {
     "data": {
      "text/plain": [
       "723"
      ]
     },
     "execution_count": 14,
     "metadata": {},
     "output_type": "execute_result"
    }
   ],
   "source": [
    "len(label_df)"
   ]
  },
  {
   "cell_type": "code",
   "execution_count": 26,
   "metadata": {
    "executionInfo": {
     "elapsed": 1,
     "status": "ok",
     "timestamp": 1714543099528,
     "user": {
      "displayName": "저녁하늘",
      "userId": "05838207599227275382"
     },
     "user_tz": -540
    },
    "id": "3U-B_ptVJ8D8",
    "tags": []
   },
   "outputs": [],
   "source": [
    "import os\n",
    "from glob import glob\n",
    "\n",
    "def get_train_data(data_dir):\n",
    "    img_path_list = []\n",
    "    label_list = []\n",
    "    img_path_list.extend(glob(os.path.join(data_dir, '*.PNG')))\n",
    "    # 이미지 경로 가져온 후 정리 및 정렬\n",
    "    img_path_list.sort()  # 파일 이름을 기준으로 정렬\n",
    "\n",
    "    # 정답값 리스트 저장 (여기서 label_df는 적절한 데이터프레임이어야 합니다.)\n",
    "    label_list.extend(label_df['label'])\n",
    "\n",
    "    return img_path_list, label_list\n",
    "\n",
    "def get_test_data(data_dir):\n",
    "    img_path_list = []\n",
    "\n",
    "    # 이미지 경로 가져온 후 정리 및 정렬\n",
    "    img_path_list.extend(glob(os.path.join(data_dir, '*.PNG')))\n",
    "    img_path_list.sort()  # 파일 이름을 기준으로 정렬\n",
    "\n",
    "    return img_path_list\n",
    "\n",
    "\n",
    "all_img_path, all_label = get_train_data('study/숙련/MLseoul/train')\n",
    "test_img_path = get_test_data('study/숙련/MLseoul/test')\n"
   ]
  },
  {
   "cell_type": "code",
   "execution_count": 29,
   "metadata": {
    "tags": []
   },
   "outputs": [],
   "source": [
    "import os\n",
    "from glob import glob\n",
    "\n",
    "def get_train_data(data_dir):\n",
    "    img_path_list = []\n",
    "    label_list = []\n",
    "\n",
    "    # 이미지 경로 가져온 후 정리 및 정렬\n",
    "    img_path_list.extend(glob(os.path.join(data_dir, '*.PNG')))\n",
    "    img_path_list.sort()  # 파일 이름을 기준으로 정렬\n",
    "\n",
    "    # 정답값 리스트 저장\n",
    "    label_list.extend(label_df['label'])\n",
    "\n",
    "    return img_path_list, label_list\n",
    "\n",
    "def get_test_data(data_dir):\n",
    "    img_path_list = []\n",
    "\n",
    "    # 이미지 경로 가져온 후 정리 및 정렬\n",
    "    img_path_list.extend(glob(os.path.join(data_dir, '*.PNG')))\n",
    "    img_path_list.sort()  # 파일 이름을 기준으로 정렬\n",
    "\n",
    "    return img_path_list\n",
    "\n",
    "\n",
    "all_img_path, all_label = get_train_data('study/숙련/MLseoul/train')\n",
    "test_img_path = get_test_data('study/숙련/MLseoul/test')"
   ]
  },
  {
   "cell_type": "code",
   "execution_count": 30,
   "metadata": {
    "tags": []
   },
   "outputs": [
    {
     "data": {
      "text/plain": [
       "[]"
      ]
     },
     "execution_count": 30,
     "metadata": {},
     "output_type": "execute_result"
    }
   ],
   "source": [
    "all_img_path"
   ]
  },
  {
   "cell_type": "markdown",
   "metadata": {
    "id": "Dt51f7FRJFuX"
   },
   "source": [
    "# 3. 데이터 전처리"
   ]
  },
  {
   "cell_type": "code",
   "execution_count": null,
   "metadata": {
    "tags": []
   },
   "outputs": [],
   "source": [
    "import torchvision.datasets as datasets # 이미지 데이터셋 집합체\n",
    "import torchvision.transforms as transforms # 이미지 변환 툴\n",
    "\n",
    "from torch.utils.data import DataLoader # 학습 및 배치로 모델에 넣어주기 위한 툴\n",
    "from torch.utils.data import DataLoader, Dataset\n",
    "\n",
    "import cv2"
   ]
  },
  {
   "cell_type": "code",
   "execution_count": null,
   "metadata": {
    "executionInfo": {
     "elapsed": 593,
     "status": "ok",
     "timestamp": 1714555470385,
     "user": {
      "displayName": "저녁하늘",
      "userId": "05838207599227275382"
     },
     "user_tz": -540
    },
    "id": "vs2gTPFGJHXw",
    "tags": []
   },
   "outputs": [],
   "source": [
    "class CustomDataset(Dataset):\n",
    "    def __init__(self, img_path_list, label_list, train_mode=True, transforms=None): #필요한 변수들을 선언\n",
    "        self.transforms = transforms # 이미지 변환 여부\n",
    "        self.train_mode = train_mode # 학습용인지 테스트용인지 여부\n",
    "        self.img_path_list = img_path_list # 이미지 경로 리스트\n",
    "        self.label_list = label_list # 정답값 리스트\n",
    "\n",
    "    def __getitem__(self, index): #index번째 data를 return\n",
    "        # index번째 이미지 가져오기\n",
    "        img_path = self.img_path_list[index]\n",
    "        image = cv2.imread(img_path)\n",
    "\n",
    "        if self.transforms is not None: # 이미지 변환\n",
    "            image = self.transforms(image)\n",
    "\n",
    "        if self.train_mode: # 학습시에만 적용, 테스트할때는 미적용\n",
    "            label = self.label_list[index]\n",
    "            return image, label\n",
    "        else:\n",
    "            return image\n",
    "\n",
    "    def __len__(self): #길이 return\n",
    "        return len(self.img_path_list)"
   ]
  },
  {
   "cell_type": "markdown",
   "metadata": {
    "id": "0SxiEo95KG3I"
   },
   "source": [
    "#### 3.1.1 데이터 확인"
   ]
  },
  {
   "cell_type": "code",
   "execution_count": null,
   "metadata": {
    "colab": {
     "base_uri": "https://localhost:8080/",
     "height": 362
    },
    "executionInfo": {
     "elapsed": 1310,
     "status": "ok",
     "timestamp": 1714555474029,
     "user": {
      "displayName": "저녁하늘",
      "userId": "05838207599227275382"
     },
     "user_tz": -540
    },
    "id": "7oXnEvBlKIXs",
    "outputId": "e865dba4-11b9-450e-a7c4-e5b8cd97561b",
    "tags": []
   },
   "outputs": [],
   "source": [
    "import matplotlib.pyplot as plt\n",
    "\n",
    "# 임의의 데이터셋을 만들어서 하나 출력해보기\n",
    "tempdataset = CustomDataset(all_img_path, all_label, train_mode=False)\n",
    "plt.imshow(tempdataset.__getitem__(4))"
   ]
  },
  {
   "cell_type": "markdown",
   "metadata": {
    "id": "fZFWTQtfKMsh"
   },
   "source": [
    "## 3.2 Train / Validation Split"
   ]
  },
  {
   "cell_type": "code",
   "execution_count": null,
   "metadata": {
    "colab": {
     "base_uri": "https://localhost:8080/"
    },
    "executionInfo": {
     "elapsed": 4,
     "status": "ok",
     "timestamp": 1714543102968,
     "user": {
      "displayName": "저녁하늘",
      "userId": "05838207599227275382"
     },
     "user_tz": -540
    },
    "id": "ImzKV0X4KPIR",
    "outputId": "9204ae91-0888-46d9-b495-331d7838a411"
   },
   "outputs": [],
   "source": [
    "# 데이터 세트 분리\n",
    "train_len = int(len(all_img_path)*0.75)\n",
    "Vali_len = int(len(all_img_path)*0.25)\n",
    "\n",
    "train_img_path = all_img_path[:train_len]\n",
    "train_label = all_label[:train_len]\n",
    "\n",
    "vali_img_path = all_img_path[train_len:]\n",
    "vali_label = all_label[train_len:]\n",
    "\n",
    "print('train set 개수 : ', train_len)\n",
    "print('vaildation set 개수 : ', Vali_len)"
   ]
  },
  {
   "cell_type": "markdown",
   "metadata": {
    "id": "jE_uD5dwKRai"
   },
   "source": [
    "## 3.3 transforms"
   ]
  },
  {
   "cell_type": "markdown",
   "metadata": {
    "id": "ACe0rgSu00rY"
   },
   "source": [
    "### 과제1 : Albumentation을 사용해서 더 많은 증강도구를 빠르게 사용해보세요."
   ]
  },
  {
   "cell_type": "code",
   "execution_count": null,
   "metadata": {
    "id": "L6HxQg5X2Hj6"
   },
   "outputs": [],
   "source": [
    "!pip install albumentations\n",
    "import albumentations as A\n"
   ]
  },
  {
   "cell_type": "code",
   "execution_count": null,
   "metadata": {
    "executionInfo": {
     "elapsed": 15,
     "status": "ok",
     "timestamp": 1714543109243,
     "user": {
      "displayName": "저녁하늘",
      "userId": "05838207599227275382"
     },
     "user_tz": -540
    },
    "id": "op7Xwu582oQA"
   },
   "outputs": [],
   "source": [
    "# 증강을 포함하는 변환(transform) 정의\n",
    "transform = A.Compose([\n",
    "    A.Resize(width=256, height=256),  # 이미지 크기 조정\n",
    "    A.HorizontalFlip(p=0.5),  # 50% 확률로 좌우 반전\n",
    "    A.RandomBrightnessContrast(p=0.2),  # 20% 확률로 밝기/대비 조절\n",
    "    A.Rotate(limit=30, p=0.5),  # 50% 확률로 최대 30도 회전\n",
    "])\n"
   ]
  },
  {
   "cell_type": "code",
   "execution_count": null,
   "metadata": {
    "executionInfo": {
     "elapsed": 14,
     "status": "ok",
     "timestamp": 1714543109243,
     "user": {
      "displayName": "저녁하늘",
      "userId": "05838207599227275382"
     },
     "user_tz": -540
    },
    "id": "4uLcMzt7KUAe"
   },
   "outputs": [],
   "source": [
    "from torchvision import transforms as T\n",
    "\n",
    "train_transform = T.Compose([\n",
    "    T.ToPILImage(),  # Numpy 배열에서 PIL 이미지로 변환\n",
    "    T.Resize([CFG['IMG_SIZE'], CFG['IMG_SIZE']]),  # 이미지 사이즈 조정\n",
    "    T.ToTensor(),  # 이미지 데이터를 텐서로 변환\n",
    "    T.Normalize(mean=(0.5, 0.5, 0.5), std=(0.5, 0.5, 0.5))  # 이미지 정규화\n",
    "])\n",
    "\n",
    "test_transform = T.Compose([\n",
    "    T.ToPILImage(),\n",
    "    T.Resize([CFG['IMG_SIZE'], CFG['IMG_SIZE']]),\n",
    "    T.ToTensor(),\n",
    "    T.Normalize(mean=(0.5, 0.5, 0.5), std=(0.5, 0.5, 0.5))\n",
    "])\n"
   ]
  },
  {
   "cell_type": "code",
   "execution_count": null,
   "metadata": {
    "executionInfo": {
     "elapsed": 14,
     "status": "ok",
     "timestamp": 1714543109243,
     "user": {
      "displayName": "저녁하늘",
      "userId": "05838207599227275382"
     },
     "user_tz": -540
    },
    "id": "CwnDReVtlF8F"
   },
   "outputs": [],
   "source": [
    "#원래꺼\n",
    "train_transform = transforms.Compose([\n",
    "                    transforms.ToPILImage(), #Numpy배열에서 PIL이미지로\n",
    "                    transforms.Resize([CFG['IMG_SIZE'], CFG['IMG_SIZE']]), #이미지 사이즈 변형\n",
    "                    transforms.ToTensor(), #이미지 데이터를 tensor\n",
    "                    transforms.Normalize(mean=(0.5, 0.5, 0.5), std=(0.5, 0.5, 0.5)) #이미지 정규화\n",
    "                    ])\n",
    "\n",
    "test_transform = transforms.Compose([\n",
    "                    transforms.ToPILImage(),\n",
    "                    transforms.Resize([CFG['IMG_SIZE'], CFG['IMG_SIZE']]),\n",
    "                    transforms.ToTensor(),\n",
    "                    transforms.Normalize(mean=(0.5, 0.5, 0.5), std=(0.5, 0.5, 0.5))\n",
    "                    ])"
   ]
  },
  {
   "cell_type": "markdown",
   "metadata": {
    "id": "wGttxbZEKo-1"
   },
   "source": [
    "## 3.4 Dataloader"
   ]
  },
  {
   "cell_type": "code",
   "execution_count": null,
   "metadata": {
    "colab": {
     "base_uri": "https://localhost:8080/"
    },
    "executionInfo": {
     "elapsed": 14,
     "status": "ok",
     "timestamp": 1714543109244,
     "user": {
      "displayName": "저녁하늘",
      "userId": "05838207599227275382"
     },
     "user_tz": -540
    },
    "id": "UHdnCb0SKqyH",
    "outputId": "c36d6b24-b21d-4e27-e93e-35bd468d2baf"
   },
   "outputs": [],
   "source": [
    "#CustomDataset 클래스를 통하여 train dataset생성\n",
    "train_dataset = CustomDataset(train_img_path, train_label, train_mode=True, transforms=train_transform)\n",
    "#만든 train dataset를 batch_size에 맞게 데이터 나누기\n",
    "train_loader = DataLoader(train_dataset, batch_size = CFG['BATCH_SIZE'], shuffle=True, num_workers=0)\n",
    "\n",
    "#vaildation 에서도 적용\n",
    "vali_dataset = CustomDataset(vali_img_path, vali_label, train_mode=True, transforms=test_transform)\n",
    "vali_loader = DataLoader(vali_dataset, batch_size = CFG['BATCH_SIZE'], shuffle=False, num_workers=0)\n",
    "\n",
    "train_batches = len(train_loader)\n",
    "vali_batches = len(vali_loader)\n",
    "\n",
    "print('학습용 데이터 개수',train_len,'= 학습용 배치 개수', train_batches, 'X 12(배치 사이즈)')\n",
    "print('검증용 데이터 개수',Vali_len, '= 검증용 배치 개수', vali_batches, 'X 12(배치 사이즈)')"
   ]
  },
  {
   "cell_type": "markdown",
   "metadata": {
    "id": "ciNcz-EDJHuN"
   },
   "source": [
    "# 4. 모델 정의"
   ]
  },
  {
   "cell_type": "markdown",
   "metadata": {
    "id": "UIKQkTgg00rY"
   },
   "source": [
    "### 과제2 : timm에서 다양한 모델들을 사용해보세요"
   ]
  },
  {
   "cell_type": "code",
   "execution_count": null,
   "metadata": {
    "id": "ZkPLI30K0Lmf"
   },
   "outputs": [],
   "source": [
    "!pip install timm"
   ]
  },
  {
   "cell_type": "code",
   "execution_count": null,
   "metadata": {
    "colab": {
     "base_uri": "https://localhost:8080/",
     "height": 335
    },
    "executionInfo": {
     "elapsed": 462,
     "status": "error",
     "timestamp": 1714543120736,
     "user": {
      "displayName": "저녁하늘",
      "userId": "05838207599227275382"
     },
     "user_tz": -540
    },
    "id": "ixn6SP7UlqLD",
    "outputId": "77b86ac8-afa7-4d98-988d-36212a2857ab"
   },
   "outputs": [],
   "source": [
    "import timm\n",
    "\n",
    "model = timm.create_model('resnet18', pretrained=True, num_classes=10)\n",
    "model = model.to('cuda')"
   ]
  },
  {
   "cell_type": "code",
   "execution_count": null,
   "metadata": {
    "id": "yQ05wxL_1ej6"
   },
   "outputs": [],
   "source": [
    "import timm\n",
    "\n",
    "# ResNet 모델 생성\n",
    "model = timm.create_model('resnet18', pretrained=True)\n",
    "\n",
    "# 모델 출력\n",
    "print(model)\n"
   ]
  },
  {
   "cell_type": "code",
   "execution_count": null,
   "metadata": {
    "executionInfo": {
     "elapsed": 313,
     "status": "ok",
     "timestamp": 1714543172436,
     "user": {
      "displayName": "저녁하늘",
      "userId": "05838207599227275382"
     },
     "user_tz": -540
    },
    "id": "CYcWuT4eKssl"
   },
   "outputs": [],
   "source": [
    "import pandas as pd\n",
    "import os\n",
    "from glob import glob\n",
    "from PIL import Image\n",
    "import torch\n",
    "import torchvision.transforms as transforms\n",
    "from torch.utils.data import Dataset\n",
    "\n",
    "# CSV 파일에서 레이블 데이터 로드\n",
    "label_df = pd.read_csv('/content/drive/MyDrive/jbig/6주차/JBIG 서울 이미지 분류2주차/train.csv')\n",
    "\n",
    "class CustomDataset(Dataset):\n",
    "    def __init__(self, data_dir, label_df, transform=None):\n",
    "        self.data_dir = data_dir\n",
    "        self.label_df = label_df\n",
    "        self.transform = transform\n",
    "        self.img_paths = self._load_img_paths()\n",
    "\n",
    "    def _load_img_paths(self):\n",
    "        img_path_list = []\n",
    "        img_path_list.extend(glob(os.path.join(self.data_dir, '*.PNG')))\n",
    "        img_path_list.sort()  # 파일 이름을 기준으로 정렬\n",
    "        return img_path_list\n",
    "\n",
    "    def __len__(self):\n",
    "        return len(self.img_paths)\n",
    "\n",
    "    def __getitem__(self, idx):\n",
    "        img_path = self.img_paths[idx]\n",
    "        img = Image.open(img_path).convert('RGB')\n",
    "        if self.transform:\n",
    "            img = self.transform(img)\n",
    "        label = self.label_df.iloc[idx]['label']\n",
    "        return img, label\n",
    "\n",
    "# 데이터 전처리 및 변환 정의\n",
    "preprocess = transforms.Compose([\n",
    "    transforms.Resize(256),\n",
    "    transforms.CenterCrop(224),\n",
    "    transforms.ToTensor(),\n",
    "    transforms.Normalize(mean=[0.485, 0.456, 0.406], std=[0.229, 0.224, 0.225]),\n",
    "])\n",
    "\n",
    "# 학습 데이터셋 및 테스트 데이터셋 객체 생성\n",
    "train_dataset = CustomDataset('/content/drive/MyDrive/jbig/6주차/JBIG 서울 이미지 분류2주차/train', label_df, transform=preprocess)\n",
    "test_dataset = CustomDataset('/content/drive/MyDrive/jbig/6주차/JBIG 서울 이미지 분류2주차/test', label_df, transform=preprocess)\n",
    "\n",
    "\n",
    "\n"
   ]
  },
  {
   "cell_type": "code",
   "execution_count": null,
   "metadata": {
    "colab": {
     "base_uri": "https://localhost:8080/",
     "height": 219
    },
    "executionInfo": {
     "elapsed": 316,
     "status": "error",
     "timestamp": 1714543175429,
     "user": {
      "displayName": "저녁하늘",
      "userId": "05838207599227275382"
     },
     "user_tz": -540
    },
    "id": "uf7JQOdU2tV-",
    "outputId": "c4b3b7bb-d1fd-4ff1-b954-02127ad6a41d"
   },
   "outputs": [],
   "source": [
    "import timm\n",
    "import torch\n",
    "import torch.nn as nn\n",
    "import torch.optim as optim\n",
    "from torch.utils.data import DataLoader\n",
    "from torchvision import transforms\n",
    "\n",
    "# 하이퍼파라미터 설정\n",
    "NUM_CLASSES = 10  # 클래스 개수에 따라 적절히 설정\n",
    "BATCH_SIZE = 32\n",
    "LEARNING_RATE = 0.001\n",
    "NUM_EPOCHS = 10\n",
    "\n",
    "\n",
    "# 데이터셋 경로\n",
    "train_img_path = \"/content/drive/MyDrive/jbig/6주차/JBIG 서울 이미지 분류2주차/train\"\n",
    "train_label = \"/content/drive/MyDrive/jbig/6주차/JBIG 서울 이미지 분류2주차/train.csv\"\n",
    "\n",
    "# 데이터 전처리 및 데이터로더 생성\n",
    "train_transform = transforms.Compose([\n",
    "    transforms.ToPILImage(),\n",
    "    transforms.Resize((224, 224)),  # ResNet은 보통 224x224 크기의 입력을 사용합니다.\n",
    "    transforms.ToTensor(),\n",
    "    transforms.Normalize(mean=(0.5, 0.5, 0.5), std=(0.5, 0.5, 0.5))\n",
    "])\n",
    "train_dataset = CustomDataset(train_img_path, train_label, train_mode=True, transforms=train_transform)\n",
    "train_loader = DataLoader(train_dataset, batch_size=BATCH_SIZE, shuffle=True)\n",
    "\n",
    "# ResNet 모델 생성\n",
    "model = timm.create_model('resnet18', pretrained=True)\n",
    "# 모델의 마지막 레이어를 새로운 fully connected 레이어로 대체하여 클래스 수에 맞게 설정\n",
    "model.fc = nn.Linear(model.fc.in_features, NUM_CLASSES)\n",
    "\n",
    "# GPU를 사용할 수 있는 경우 GPU로 모델 이동\n",
    "device = torch.device(\"cuda\" if torch.cuda.is_available() else \"cpu\")\n",
    "model.to(device)\n",
    "\n",
    "# 손실 함수와 옵티마이저 설정\n",
    "criterion = nn.CrossEntropyLoss()\n",
    "optimizer = optim.Adam(model.parameters(), lr=LEARNING_RATE)\n",
    "\n",
    "print(\"학습 완료!\")\n"
   ]
  },
  {
   "cell_type": "code",
   "execution_count": null,
   "metadata": {
    "id": "pQ3pb2pSJJM3"
   },
   "outputs": [],
   "source": [
    "#원본\n",
    "from torchvision import models\n",
    "from torchvision.models import efficientnet_b3 as efficientnet\n",
    "from torchvision.models import resnet50 as resnet\n",
    "import torch.nn as nn\n",
    "from torch.nn import functional as F\n",
    "from torch.nn import CrossEntropyLoss\n",
    "import torch.optim as optim\n",
    "\n",
    "model = models.efficientnet_b3(pretrained=False)\n",
    "model"
   ]
  },
  {
   "cell_type": "code",
   "execution_count": null,
   "metadata": {
    "id": "AgiJnFkZKxp4"
   },
   "outputs": [],
   "source": [
    "#원본\n",
    "# 1000 = 모델의 마지막 층의 out_features가 1000개이기 때문에 1000으로 설정\n",
    "# 10 = 우리가 분류할 정답값이 10개이므로 10으로 설정\n",
    "# 주의 : 모델을 바꾸면 해당 모델 마지막 층의 out_features에 따라 1000에서 값을 변경할 것!!\n",
    "model.fc = nn.Linear(1000, 10)\n",
    "model = model.to(device)\n",
    "model"
   ]
  },
  {
   "cell_type": "markdown",
   "metadata": {
    "id": "VmLUTi7nJJr2"
   },
   "source": [
    "# 5. 모델 학습"
   ]
  },
  {
   "cell_type": "markdown",
   "metadata": {
    "id": "6EiBVgyi00rZ"
   },
   "source": [
    "### 과제 3 : 스케쥴러를 추가해보세요."
   ]
  },
  {
   "cell_type": "code",
   "execution_count": null,
   "metadata": {
    "colab": {
     "base_uri": "https://localhost:8080/"
    },
    "executionInfo": {
     "elapsed": 305,
     "status": "ok",
     "timestamp": 1714542714817,
     "user": {
      "displayName": "저녁하늘",
      "userId": "05838207599227275382"
     },
     "user_tz": -540
    },
    "id": "Oq6HeD2l3ZPp",
    "outputId": "98ea6d19-7524-4a01-e297-20db05a6d2ea"
   },
   "outputs": [],
   "source": [
    "#과제 3\n",
    "import torch\n",
    "import torch.nn as nn\n",
    "import torch.optim as optim\n",
    "from torch.optim.lr_scheduler import StepLR\n",
    "from torch.utils.data import DataLoader\n",
    "\n",
    "# 스케줄러를 위한 파라미터 설정\n",
    "step_size = 5  # 스텝 사이즈\n",
    "gamma = 0.1  # 학습률을 감소시킬 배율\n",
    "\n",
    "# 데이터로더 설정\n",
    "train_loader = DataLoader(train_dataset, batch_size=32, shuffle=True)\n",
    "test_loader = DataLoader(test_dataset, batch_size=32, shuffle=False)\n",
    "\n",
    "# 손실 함수와 옵티마이저 설정\n",
    "criterion = nn.CrossEntropyLoss()\n",
    "optimizer = optim.Adam(model.parameters(), lr=0.001)\n",
    "\n",
    "# 스케줄러 설정\n",
    "scheduler = StepLR(optimizer, step_size=step_size, gamma=gamma)\n",
    "\n",
    "scheduler"
   ]
  },
  {
   "cell_type": "markdown",
   "metadata": {
    "id": "SGeaQbrQ00rZ"
   },
   "source": [
    "### 과제 4 : 얼리스탑핑을 추가해보세요."
   ]
  },
  {
   "cell_type": "code",
   "execution_count": null,
   "metadata": {
    "id": "C3hFha1QUHN2"
   },
   "outputs": [],
   "source": [
    "#과제4\n",
    "import numpy as np\n",
    "\n",
    "def train_with_early_stopping(model, train_loader, criterion, optimizer, scheduler, num_epochs=10, patience=3):\n",
    "    best_loss = np.inf\n",
    "    current_patience = 0\n",
    "\n",
    "    for epoch in range(num_epochs):\n",
    "        model.train()\n",
    "        running_loss = 0.0\n",
    "\n",
    "        for images, labels in train_loader:\n",
    "            images, labels = images.to(device), labels.to(device)\n",
    "            optimizer.zero_grad()\n",
    "            outputs = model(images)\n",
    "            loss = criterion(outputs, labels)\n",
    "            loss.backward()\n",
    "            optimizer.step()\n",
    "            running_loss += loss.item() * images.size(0)\n",
    "\n",
    "        epoch_loss = running_loss / len(train_loader.dataset)\n",
    "        print(f\"Epoch [{epoch+1}/{num_epochs}], Loss: {epoch_loss:.4f}\")\n",
    "        scheduler.step()\n",
    "\n",
    "        # 검증 손실 계산 (학습 중이므로 검증은 생략합니다)\n",
    "\n",
    "        # 얼리 스탑핑 조건 확인\n",
    "        if epoch_loss < best_loss:\n",
    "            best_loss = epoch_loss\n",
    "            current_patience = 0\n",
    "        else:\n",
    "            current_patience += 1\n",
    "            if current_patience >= patience:\n",
    "                print(\"Early stopping triggered. Training stopped.\")\n",
    "                return\n"
   ]
  },
  {
   "cell_type": "code",
   "execution_count": null,
   "metadata": {
    "executionInfo": {
     "elapsed": 305,
     "status": "ok",
     "timestamp": 1714543864442,
     "user": {
      "displayName": "저녁하늘",
      "userId": "05838207599227275382"
     },
     "user_tz": -540
    },
    "id": "SHMnCRRIJLM-"
   },
   "outputs": [],
   "source": [
    "#원본\n",
    "from tqdm import tqdm\n",
    "\n",
    "# 오류를 계산할 평가 방식 정의\n",
    "criterion = torch.nn.CrossEntropyLoss()\n",
    "# 학습을 어떻게 할지 방법론 정의\n",
    "optimizer = torch.optim.SGD(params = model.parameters(), lr = CFG[\"LEARNING_RATE\"])\n",
    "\n",
    "def train(model, optimizer, train_loader, device):\n",
    "    model.to(device)\n",
    "    n = len(train_loader)\n",
    "    best_acc = 0\n",
    "\n",
    "    for epoch in range(1,CFG[\"EPOCHS\"]+1): #에포크(반복수) 설정\n",
    "        model.train() #모델 학습\n",
    "        running_loss = 0.0\n",
    "\n",
    "        for img, label in tqdm(iter(train_loader)):\n",
    "            img, label = img.to(device), label.to(device) #배치 데이터\n",
    "            optimizer.zero_grad() #전방향 학습, 기울기 초기화\n",
    "\n",
    "            # Data -> Model -> Output\n",
    "            output = model(img) # 입력 -> 출력\n",
    "            loss = criterion(output, label) #오차 계산\n",
    "\n",
    "            # 역전파\n",
    "            loss.backward() #역전파 학습 (기울기 계산)\n",
    "            optimizer.step() #기울기 업데이트\n",
    "            running_loss += loss.item()\n",
    "\n",
    "        print('[%d] Train loss: %.10f' %(epoch, running_loss / len(train_loader)))\n",
    "\n",
    "\n",
    "        #Validation set 평가\n",
    "        model.eval() #evaluation 과정에서 사용하지 않아야 하는 layer들을 알아서 off 시키도록 하는 함수\n",
    "        vali_loss = 0.0\n",
    "        correct = 0\n",
    "        with torch.no_grad(): #파라미터 업데이트 안하기 때문에 no_grad 사용\n",
    "            for img, label in tqdm(iter(vali_loader)):\n",
    "                img, label = img.to(device), label.to(device)\n",
    "\n",
    "                output = model(img)# 입력 -> 출력\n",
    "                vali_loss += criterion(output, label)#오차 계산\n",
    "                pred = output.argmax(dim=1, keepdim=True)  #11개의 class중 가장 값이 높은 것을 예측 label로 추출\n",
    "                correct += pred.eq(label.view_as(pred)).sum().item() #예측값과 실제값이 맞으면 1 아니면 0으로 합산\n",
    "        vali_acc = 100 * correct / len(vali_loader.dataset)\n",
    "        print('Vail set: Loss: {:.4f}, Accuracy: {}/{} ( {:.0f}%)\\n'.format(vali_loss / len(vali_loader), correct, len(vali_loader.dataset), 100 * correct / len(vali_loader.dataset)))\n",
    "\n",
    "        # 이전에 가장 잘 학습했던 모델의 정확도보다 높을 경우 모델 저장\n",
    "        if best_acc < vali_acc:\n",
    "            best_acc = vali_acc\n",
    "            torch.save(model.state_dict(), './best_model.pth') #이 디렉토리에 best_model.pth을 저장\n",
    "            print('Model Saved.')"
   ]
  },
  {
   "cell_type": "code",
   "execution_count": null,
   "metadata": {
    "colab": {
     "base_uri": "https://localhost:8080/"
    },
    "executionInfo": {
     "elapsed": 7791699,
     "status": "ok",
     "timestamp": 1714552115841,
     "user": {
      "displayName": "저녁하늘",
      "userId": "05838207599227275382"
     },
     "user_tz": -540
    },
    "id": "KRdEiW4ZLIDO",
    "outputId": "058875c1-af9d-4502-fa54-92b2c1ccb74c"
   },
   "outputs": [],
   "source": [
    "train(model, optimizer, train_loader, device)"
   ]
  },
  {
   "cell_type": "markdown",
   "metadata": {
    "id": "boXdJjLrJLiz"
   },
   "source": [
    "# 6. 모델 예측"
   ]
  },
  {
   "cell_type": "code",
   "execution_count": null,
   "metadata": {
    "executionInfo": {
     "elapsed": 377,
     "status": "ok",
     "timestamp": 1714555480365,
     "user": {
      "displayName": "저녁하늘",
      "userId": "05838207599227275382"
     },
     "user_tz": -540
    },
    "id": "PEEE1SqoJNuW"
   },
   "outputs": [],
   "source": [
    "#원본\n",
    "def predict(model, test_loader, device):\n",
    "    model.eval()\n",
    "    model_pred = []\n",
    "    with torch.no_grad():\n",
    "        for img in tqdm(iter(test_loader)):\n",
    "            img = img.to(device)\n",
    "\n",
    "            pred_output = model(img)\n",
    "            pred_output = pred_output.argmax(dim=1, keepdim=True).squeeze(1)\n",
    "\n",
    "            model_pred.extend(pred_output.tolist())\n",
    "    return model_pred"
   ]
  },
  {
   "cell_type": "code",
   "execution_count": null,
   "metadata": {
    "colab": {
     "base_uri": "https://localhost:8080/",
     "height": 371
    },
    "executionInfo": {
     "elapsed": 1494,
     "status": "error",
     "timestamp": 1714556271082,
     "user": {
      "displayName": "저녁하늘",
      "userId": "05838207599227275382"
     },
     "user_tz": -540
    },
    "id": "zpYMZDWELJtq",
    "outputId": "d70bc65b-d940-455f-cf92-b77853c4ba07"
   },
   "outputs": [],
   "source": [
    "#원본\n",
    "test_dataset = CustomDataset(test_img_path, None, train_mode=False, transforms=test_transform)\n",
    "test_loader = DataLoader(test_dataset, batch_size = CFG['BATCH_SIZE'], shuffle=False, num_workers=0)\n",
    "\n",
    "# Validation Accuracy가 가장 뛰어난 모델을 불러옵니다.\n",
    "checkpoint = torch.load('/content/best_model.pth')\n",
    "\n",
    "model = models.efficientnet_b3(pretrained=False)\n",
    "model.fc = nn.Linear(1000, 10)\n",
    "model = model.to(device)\n",
    "\n",
    "model.load_state_dict(checkpoint)\n",
    "\n",
    "# Inference\n",
    "preds = predict(model, test_loader, device)\n",
    "preds[0:5]"
   ]
  },
  {
   "cell_type": "markdown",
   "metadata": {
    "id": "DQI1jSgsJOFd"
   },
   "source": [
    "# 7. 결과 제출"
   ]
  },
  {
   "cell_type": "code",
   "execution_count": null,
   "metadata": {
    "executionInfo": {
     "elapsed": 374,
     "status": "ok",
     "timestamp": 1714555115897,
     "user": {
      "displayName": "저녁하늘",
      "userId": "05838207599227275382"
     },
     "user_tz": -540
    },
    "id": "a8AuXxwxJPZ3",
    "tags": []
   },
   "outputs": [],
   "source": [
    "submission = pd.read_csv('/content/drive/MyDrive/jbig/6주차/JBIG 서울 이미지 분류2주차/sample_submission.csv')\n",
    "submission['label'] = preds\n",
    "submission.to_csv('/content/drive/MyDrive/jbig/6주차/JBIG 서울 이미지 분류2주차/sample_submission.csv', index=False)"
   ]
  }
 ],
 "metadata": {
  "accelerator": "GPU",
  "colab": {
   "collapsed_sections": [
    "tw3yZ4aoIwDf",
    "SngdFfprJnkF",
    "z5e_hIoVJq2r",
    "7_kBNYfcJuXz",
    "m5RMGUUwJD0X",
    "0SxiEo95KG3I",
    "fZFWTQtfKMsh"
   ],
   "gpuType": "T4",
   "provenance": []
  },
  "kernelspec": {
   "display_name": "deep",
   "language": "python",
   "name": "deep"
  },
  "language_info": {
   "codemirror_mode": {
    "name": "ipython",
    "version": 3
   },
   "file_extension": ".py",
   "mimetype": "text/x-python",
   "name": "python",
   "nbconvert_exporter": "python",
   "pygments_lexer": "ipython3",
   "version": "3.10.13"
  }
 },
 "nbformat": 4,
 "nbformat_minor": 4
}
